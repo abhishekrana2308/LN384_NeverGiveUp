{
  "nbformat": 4,
  "nbformat_minor": 0,
  "metadata": {
    "colab": {
      "name": "Scraping.ipynb",
      "provenance": []
    },
    "kernelspec": {
      "name": "python3",
      "display_name": "Python 3"
    }
  },
  "cells": [
    {
      "cell_type": "code",
      "metadata": {
        "id": "Bt602DJ4c2xM",
        "colab_type": "code",
        "colab": {}
      },
      "source": [
        "import pandas as pd\n",
        "import numpy as np\n",
        "import matplotlib.pyplot as plt\n",
        "import seaborn as sns\n",
        "%matplotlib inline"
      ],
      "execution_count": 21,
      "outputs": []
    },
    {
      "cell_type": "code",
      "metadata": {
        "id": "TBJpz5zmdBiZ",
        "colab_type": "code",
        "colab": {}
      },
      "source": [
        "from urllib.request import urlopen\n",
        "from bs4 import BeautifulSoup\n",
        "import requests"
      ],
      "execution_count": 22,
      "outputs": []
    },
    {
      "cell_type": "code",
      "metadata": {
        "id": "Ei4qXYR2dMd5",
        "colab_type": "code",
        "colab": {}
      },
      "source": [
        "text = requests.get(\"http://www.mperc.in/consolidated-reg.htm\").text\n",
        "soup = BeautifulSoup(text,'html.parser')\n",
        "# searching by id, always a better option when available\n",
        "tableStats = soup.find(\"table\",id=\"AutoNumber1\")"
      ],
      "execution_count": 23,
      "outputs": []
    },
    {
      "cell_type": "code",
      "metadata": {
        "id": "8hT_zyqyhJsB",
        "colab_type": "code",
        "colab": {
          "base_uri": "https://localhost:8080/",
          "height": 238
        },
        "outputId": "d6a8b8e3-d676-4057-ee34-06504947aea2"
      },
      "source": [
        "all_links = soup.find_all(\"a\")\n",
        "for link in all_links:\n",
        "    print(link.get(\"href\"))"
      ],
      "execution_count": 24,
      "outputs": [
        {
          "output_type": "stream",
          "text": [
            "http:///\n",
            "http://www.ndpl.com/consumer/newconnzone1.html\n",
            "http://192.168.100.241:84/billpayment/billpay_new.jsp?srch=0&sel=ANY%20TIME%20PAYMENT%20MACHINES&pgNo=1\n",
            "http://192.168.100.241:84/consumer/login_acc1.jsp\n",
            "240812-MPERC-Class-I-II-Regs.pdf\n",
            "310812-MPERC-Class-III-IV-Regs.pdf\n",
            "310812-MPERC-Class-III-IV-Regs.pdf\n",
            "Manner%20of%20Service%20and%20publication%20of%20notice%20ver%200.3.pdf\n",
            "Cons-SAC-Regulation-270612.pdf\n",
            "070913-Fina-Cons-Regulation-Appointment-Consul.pdf\n",
            "280809-OMBD-Eng.pdf\n",
            "120310-fees-charges-english.pdf\n",
            "DisplayContent.aspx?RefTypes=2&RefIds=80\n"
          ],
          "name": "stdout"
        }
      ]
    },
    {
      "cell_type": "code",
      "metadata": {
        "id": "LZHiefLTixsO",
        "colab_type": "code",
        "colab": {}
      },
      "source": [
        ""
      ],
      "execution_count": 24,
      "outputs": []
    }
  ]
}